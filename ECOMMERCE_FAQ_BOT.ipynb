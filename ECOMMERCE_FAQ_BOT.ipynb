{
  "nbformat": 4,
  "nbformat_minor": 0,
  "metadata": {
    "colab": {
      "provenance": [],
      "authorship_tag": "ABX9TyN91lIJDkQpM2PM4J3Tiu/R",
      "include_colab_link": true
    },
    "kernelspec": {
      "name": "python3",
      "display_name": "Python 3"
    },
    "language_info": {
      "name": "python"
    }
  },
  "cells": [
    {
      "cell_type": "markdown",
      "metadata": {
        "id": "view-in-github",
        "colab_type": "text"
      },
      "source": [
        "<a href=\"https://colab.research.google.com/github/Rajarsh1510/ml_heartdisease/blob/main/ECOMMERCE_FAQ_BOT.ipynb\" target=\"_parent\"><img src=\"https://colab.research.google.com/assets/colab-badge.svg\" alt=\"Open In Colab\"/></a>"
      ]
    },
    {
      "cell_type": "code",
      "execution_count": null,
      "metadata": {
        "colab": {
          "base_uri": "https://localhost:8080/"
        },
        "id": "mi08TeCnxlTo",
        "outputId": "573b3f89-8888-4dc5-f636-3bf0dff2e580"
      },
      "outputs": [
        {
          "output_type": "stream",
          "name": "stdout",
          "text": [
            "Requirement already satisfied: nltk in /usr/local/lib/python3.11/dist-packages (3.9.1)\n",
            "Requirement already satisfied: scikit-learn in /usr/local/lib/python3.11/dist-packages (1.6.1)\n",
            "Requirement already satisfied: click in /usr/local/lib/python3.11/dist-packages (from nltk) (8.2.1)\n",
            "Requirement already satisfied: joblib in /usr/local/lib/python3.11/dist-packages (from nltk) (1.5.1)\n",
            "Requirement already satisfied: regex>=2021.8.3 in /usr/local/lib/python3.11/dist-packages (from nltk) (2024.11.6)\n",
            "Requirement already satisfied: tqdm in /usr/local/lib/python3.11/dist-packages (from nltk) (4.67.1)\n",
            "Requirement already satisfied: numpy>=1.19.5 in /usr/local/lib/python3.11/dist-packages (from scikit-learn) (2.0.2)\n",
            "Requirement already satisfied: scipy>=1.6.0 in /usr/local/lib/python3.11/dist-packages (from scikit-learn) (1.15.3)\n",
            "Requirement already satisfied: threadpoolctl>=3.1.0 in /usr/local/lib/python3.11/dist-packages (from scikit-learn) (3.6.0)\n"
          ]
        }
      ],
      "source": [
        "%pip install nltk scikit-learn"
      ]
    },
    {
      "cell_type": "code",
      "source": [
        "import nltk\n",
        "nltk.download('punkt')\n",
        "\n",
        "from sklearn.feature_extraction.text import TfidfVectorizer\n",
        "from sklearn.metrics.pairwise import cosine_similarity\n"
      ],
      "metadata": {
        "colab": {
          "base_uri": "https://localhost:8080/"
        },
        "id": "xZtLBq5PFzKV",
        "outputId": "4be1a776-b33d-49f6-bd82-3eab9ab7d86c"
      },
      "execution_count": null,
      "outputs": [
        {
          "output_type": "stream",
          "name": "stderr",
          "text": [
            "[nltk_data] Downloading package punkt to /root/nltk_data...\n",
            "[nltk_data]   Package punkt is already up-to-date!\n"
          ]
        }
      ]
    },
    {
      "cell_type": "code",
      "source": [
        "faq_data = {\n",
        "    \"What is your return policy?\" : \"You can return items within 30 days of purchase for a full refund.\",\n",
        "    \"How long does shipping take?\" : \"Shipping typically takes 3-7 business days.\",\n",
        "    \"Do you offer international shipping?\" : \"Yes, we offer international shipping to select countries.\",\n",
        "    \"How can I track my order?\" : \"After placing an order, you'll receive a tracking number via email.\",\n",
        "    \"What payment methods do you accept?\" : \"We accept credit cards, debit cards, PayPal, and UPI.\"\n",
        "}\n",
        "\n",
        "questions=list(faq_data.keys())\n",
        "answers=list(faq_data.values())\n"
      ],
      "metadata": {
        "id": "mqL5UYDJGl18"
      },
      "execution_count": null,
      "outputs": []
    },
    {
      "cell_type": "code",
      "source": [
        "vectorizer=TfidfVectorizer()\n",
        "\n",
        "matrix=vectorizer.fit_transform(questions)\n",
        "\n",
        "def get_answer(user_query):\n",
        "  query=vectorizer.transform([user_query])\n",
        "\n",
        "  similarity=cosine_similarity(query,matrix)\n",
        "\n",
        "  match_index=similarity.argmax()\n",
        "  match_score=similarity[0,match_index]\n",
        "\n",
        "\n",
        "  threshold=0.1\n",
        "\n",
        "  if match_score >= threshold:\n",
        "    return answers[match_index]\n",
        "\n",
        "  else:\n",
        "    return \"I'm sorry, I don't have an answer to that question.\""
      ],
      "metadata": {
        "id": "9Lqz7q60IYIK"
      },
      "execution_count": null,
      "outputs": []
    },
    {
      "cell_type": "code",
      "source": [
        "while True:\n",
        "  user_query=input()\n",
        "  if user_query.lower()=='exit':\n",
        "    print(\"Thankyou\")\n",
        "    break\n",
        "\n",
        "  response = get_answer(user_query)\n",
        "  print(response)"
      ],
      "metadata": {
        "colab": {
          "base_uri": "https://localhost:8080/"
        },
        "id": "7_6n6HdGK6P_",
        "outputId": "ba2770b7-6653-4c27-a5f9-a147365cc84c"
      },
      "execution_count": null,
      "outputs": [
        {
          "output_type": "stream",
          "name": "stdout",
          "text": [
            "What is your return policy?\n",
            "You can return items within 30 days of purchase for a full refund.\n",
            "How can I track my record?\n",
            "After placing an order, you'll receive a tracking number via email.\n",
            "good morning\n",
            "I'm sorry, I don't have an answer to that question.\n",
            "exit\n",
            "Thankyou\n"
          ]
        }
      ]
    }
  ]
}